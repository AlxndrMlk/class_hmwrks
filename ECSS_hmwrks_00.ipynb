{
 "cells": [
  {
   "cell_type": "markdown",
   "metadata": {},
   "source": [
    "## HW1 | Exercise 1.\n",
    "\n",
    "Read about the pageviews method (`prop=pageviews`) in the query endpoint ([docpage](https://en.wikipedia.org/w/api.php?action=help&modules=query%2Bpageviews)). \n",
    "\n",
    "Use this method to extract **page views** data for the pages from the previous exercise (if you want you can **sample 10 new pages with the `list=random method`**) for **the last 60 days**.\n",
    "\n",
    "The results will be broken down by single days, so you have to aggregate the results (sum) so they give the total page views count for the entire period of 60 days.\n",
    "\n",
    "Remember that to select pages by page ids you pass `pageids=<id 1>|<id 2>|...|<id n>`"
   ]
  },
  {
   "cell_type": "markdown",
   "metadata": {},
   "source": [
    "### Setup"
   ]
  },
  {
   "cell_type": "code",
   "execution_count": 1,
   "metadata": {},
   "outputs": [],
   "source": [
    "import requests"
   ]
  },
  {
   "cell_type": "code",
   "execution_count": 2,
   "metadata": {},
   "outputs": [],
   "source": [
    "WIKI_URI = \"https://en.wikipedia.org/w/api.php\""
   ]
  },
  {
   "cell_type": "markdown",
   "metadata": {},
   "source": [
    "### Get page IDs"
   ]
  },
  {
   "cell_type": "code",
   "execution_count": 15,
   "metadata": {},
   "outputs": [],
   "source": [
    "# Get 10 random pages\n",
    "random_payload = {\n",
    "    'action'     : 'query',  \n",
    "    'list'       : 'random',   \n",
    "    'rnnamespace': 0,\n",
    "    'rnlimit'    : 10,\n",
    "    'format'     : 'json'    \n",
    "}"
   ]
  },
  {
   "cell_type": "code",
   "execution_count": 16,
   "metadata": {},
   "outputs": [],
   "source": [
    "rand_pgs = requests.get(WIKI_URI, random_payload)"
   ]
  },
  {
   "cell_type": "code",
   "execution_count": 17,
   "metadata": {},
   "outputs": [],
   "source": [
    "# Get IDs\n",
    "ids = [str(pg['id']) for pg in rand_pgs.json()['query']['random']]"
   ]
  },
  {
   "cell_type": "code",
   "execution_count": 18,
   "metadata": {},
   "outputs": [],
   "source": [
    "# To string\n",
    "ids = '|'.join(ids)"
   ]
  },
  {
   "cell_type": "code",
   "execution_count": 19,
   "metadata": {},
   "outputs": [
    {
     "data": {
      "text/plain": [
       "'1624522|2450312|27581299|55037072|30676766|6995735|8741959|31452226|15638449|52492505'"
      ]
     },
     "execution_count": 19,
     "metadata": {},
     "output_type": "execute_result"
    }
   ],
   "source": [
    "# Sanity check\n",
    "ids"
   ]
  },
  {
   "cell_type": "markdown",
   "metadata": {},
   "source": [
    "### Get views info"
   ]
  },
  {
   "cell_type": "code",
   "execution_count": 20,
   "metadata": {},
   "outputs": [],
   "source": [
    "def get_none_sum(records):\n",
    "    return sum([i for i in records if i])"
   ]
  },
  {
   "cell_type": "code",
   "execution_count": 21,
   "metadata": {},
   "outputs": [],
   "source": [
    "def get_total_n_views(data):\n",
    "    \n",
    "    total_views = {}\n",
    "    \n",
    "    for i in data.keys():\n",
    "        try: \n",
    "            n_views = get_none_sum(data[i]['pageviews'].values())\n",
    "            total_views[data[i]['title']] = n_views\n",
    "        except KeyError:\n",
    "            total_views[data[i]['title']] = 'UNAVAILABLE'\n",
    "            \n",
    "    return total_views  "
   ]
  },
  {
   "cell_type": "code",
   "execution_count": 27,
   "metadata": {},
   "outputs": [],
   "source": [
    "pgv_payload = {\n",
    "    'action' : 'query',  \n",
    "    'prop'   : 'pageviews',\n",
    "    'pageids': ids,\n",
    "    'format' : 'json' \n",
    "}"
   ]
  },
  {
   "cell_type": "code",
   "execution_count": 28,
   "metadata": {},
   "outputs": [],
   "source": [
    "pgv_data = requests.get(WIKI_URI, pgv_payload)"
   ]
  },
  {
   "cell_type": "code",
   "execution_count": 29,
   "metadata": {},
   "outputs": [],
   "source": [
    "data = pgv_data.json()['query']['pages']"
   ]
  },
  {
   "cell_type": "code",
   "execution_count": 30,
   "metadata": {},
   "outputs": [],
   "source": [
    "results = get_total_n_views(data)"
   ]
  },
  {
   "cell_type": "code",
   "execution_count": 35,
   "metadata": {},
   "outputs": [
    {
     "name": "stdout",
     "output_type": "stream",
     "text": [
      "Page title                                             | Total number of views\n",
      "--------------------------------------------------------------------------------\n",
      "Belle Case La Follette                                 | 728\n",
      "Cephalocrotonopsis                                     | 68\n",
      "Pieces of a Dream (Chemistry song)                     | 131\n",
      "George H. Olmsted                                      | 318\n",
      "Horst Fügner                                           | 46\n",
      "Orubica                                                | 57\n",
      "Arken Arystanov                                        | 54\n",
      "Wibal & Alex                                           | 273\n",
      "Cacia semiluctuosa                                     | 10\n",
      "Transgender personnel in the United States military    | 14728\n"
     ]
    }
   ],
   "source": [
    "print(f'{\"Page title\":55}| Total number of views')\n",
    "print('-'*80)\n",
    "      \n",
    "for k, v in results.items():\n",
    "    print(f'{k:55}| {v}')"
   ]
  },
  {
   "cell_type": "markdown",
   "metadata": {},
   "source": [
    "**NOTE**: A few of the pages didn't contain a key called `pageviews`. I was curious and I visited one of these (Pieces of a Dream (Chemistry song)). After a visit, I ran the request once again (for the same set of IDs) and got a response containing `pageviews` key with respective value `> 1` (which means that most likely the change in API's response was not solely dependent on my visit)."
   ]
  },
  {
   "cell_type": "markdown",
   "metadata": {},
   "source": [
    "## HW 1 | Exercise 2.\n",
    "\n",
    "(this is a pure Python exercise for practice; not related to web APIs)\n",
    "\n",
    "Write a function that takes one argument n and prints a simple pyramid of the following form:"
   ]
  },
  {
   "cell_type": "code",
   "execution_count": 36,
   "metadata": {},
   "outputs": [],
   "source": [
    "def print_pyramid(n):\n",
    "    widths = [x for x in range(2*n) if (x % 2 != 0)]\n",
    "    for i in widths:\n",
    "        print(f'{\"*\" * i:^{max(widths)}}')"
   ]
  },
  {
   "cell_type": "code",
   "execution_count": 37,
   "metadata": {},
   "outputs": [
    {
     "name": "stdout",
     "output_type": "stream",
     "text": [
      "Expected n of rows = 1\n",
      "\n",
      "*\n",
      "--------------------------------------------------\n",
      "\n",
      "Expected n of rows = 4\n",
      "\n",
      "   *   \n",
      "  ***  \n",
      " ***** \n",
      "*******\n",
      "--------------------------------------------------\n",
      "\n",
      "Expected n of rows = 5\n",
      "\n",
      "    *    \n",
      "   ***   \n",
      "  *****  \n",
      " ******* \n",
      "*********\n",
      "--------------------------------------------------\n",
      "\n",
      "Expected n of rows = 13\n",
      "\n",
      "            *            \n",
      "           ***           \n",
      "          *****          \n",
      "         *******         \n",
      "        *********        \n",
      "       ***********       \n",
      "      *************      \n",
      "     ***************     \n",
      "    *****************    \n",
      "   *******************   \n",
      "  *********************  \n",
      " *********************** \n",
      "*************************\n",
      "--------------------------------------------------\n",
      "\n"
     ]
    }
   ],
   "source": [
    "# Test\n",
    "for i in [1, 4, 5, 13]:\n",
    "    print(f'Expected n of rows = {i}\\n')\n",
    "    print_pyramid(i)\n",
    "    print('-' * 50 + '\\n')"
   ]
  },
  {
   "cell_type": "code",
   "execution_count": null,
   "metadata": {},
   "outputs": [],
   "source": []
  }
 ],
 "metadata": {
  "kernelspec": {
   "display_name": "Python 3",
   "language": "python",
   "name": "python3"
  },
  "language_info": {
   "codemirror_mode": {
    "name": "ipython",
    "version": 3
   },
   "file_extension": ".py",
   "mimetype": "text/x-python",
   "name": "python",
   "nbconvert_exporter": "python",
   "pygments_lexer": "ipython3",
   "version": "3.6.5"
  }
 },
 "nbformat": 4,
 "nbformat_minor": 2
}
